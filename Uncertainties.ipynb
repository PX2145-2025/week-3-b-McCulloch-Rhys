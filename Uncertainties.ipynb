{
  "cells": [
    {
      "cell_type": "markdown",
      "metadata": {
        "id": "Z2YlSAcMpmmz"
      },
      "source": [
        "# Feedback from previous weeks and other and hints\n",
        "\n",
        "1. Be careful about your environment remembering variables. Make sure your code works in a new _clean_ environment. In Colab: `Runtime`->`restart Runtime`, in Anaconda's Jupyter: `Kernel`->`Restart`.\n",
        "2. Graphs without labels (or units when appropriate) are not worth any point.\n",
        "3. Do put in sufficient explanatory comments in your code.\n",
        "4. Functions are very important. Do look up the video on the Safari O'Reilly ressource if you are still not clear on them !\n",
        "\n",
        "For this week you can use these imports at the start of your programs:"
      ]
    },
    {
      "cell_type": "code",
      "execution_count": 1,
      "metadata": {
        "id": "YvUghjZxpmm0"
      },
      "outputs": [],
      "source": [
        "import numpy as np\n",
        "import matplotlib.pyplot as plt"
      ]
    },
    {
      "cell_type": "markdown",
      "metadata": {
        "id": "S7DNQvv0pmm1"
      },
      "source": [
        "We will use a new module `uncertainties`, which is **not** standard in the colab environment. You will have to first run:"
      ]
    },
    {
      "cell_type": "code",
      "execution_count": 3,
      "metadata": {
        "colab": {
          "base_uri": "https://localhost:8080/"
        },
        "id": "SFtJ7STCpmm1",
        "outputId": "fd2254ac-a6fd-4d04-f1dd-1106e715626d"
      },
      "outputs": [
        {
          "output_type": "stream",
          "name": "stdout",
          "text": [
            "\u001b[?25l   \u001b[90m━━━━━━━━━━━━━━━━━━━━━━━━━━━━━━━━━━━━━━━━\u001b[0m \u001b[32m0.0/60.1 kB\u001b[0m \u001b[31m?\u001b[0m eta \u001b[36m-:--:--\u001b[0m\r\u001b[2K   \u001b[90m━━━━━━━━━━━━━━━━━━━━━━━━━━━━━━━━━━━━━━━━\u001b[0m \u001b[32m60.1/60.1 kB\u001b[0m \u001b[31m3.7 MB/s\u001b[0m eta \u001b[36m0:00:00\u001b[0m\n",
            "\u001b[?25h"
          ]
        }
      ],
      "source": [
        "! pip install -q uncertainties"
      ]
    },
    {
      "cell_type": "markdown",
      "metadata": {
        "id": "mP_MZUBhpmm1"
      },
      "source": [
        "To install the module before you can import it:"
      ]
    },
    {
      "cell_type": "code",
      "execution_count": 4,
      "metadata": {
        "id": "Hj0XXoxTpmm1"
      },
      "outputs": [],
      "source": [
        "import uncertainties as uc\n",
        "import uncertainties.umath as um # for maths functions"
      ]
    },
    {
      "cell_type": "markdown",
      "metadata": {
        "id": "9QlxATbKpmm1"
      },
      "source": [
        "# Introduction\n",
        "In the practical classes PX2133/PX2233 and PX2338 (Obs tech), as well as your year 3/4 project, a lot of emphasis is placed on the determination and mathematical handling of errors.\n",
        "The uncertainties module allows us to deal very easily with [error propagation](https://en.wikipedia.org/wiki/Propagation_of_uncertainty). For this sheet you should remind yourself about error bars in measurements and about propagation of uncertainties. Take an example from your lab handbook:\n",
        "\n",
        "**Example 1**: If the length of a rectangle is $1.24\\pm0.02 m$ and its breadth is $0.61\\pm0.01 m$, what is its area and the error in the area? The following code snippet solves this problem in a few lines."
      ]
    },
    {
      "cell_type": "code",
      "execution_count": null,
      "metadata": {
        "id": "BVXNHMdHpmm1",
        "outputId": "cef23469-3aeb-4412-83f7-4e356bddc67d"
      },
      "outputs": [
        {
          "name": "stdout",
          "output_type": "stream",
          "text": [
            "Area is: 0.756+/-0.017 m^2\n"
          ]
        }
      ],
      "source": [
        "L = uc.ufloat(1.24, 0.02)\n",
        "W = uc.ufloat(0.61, 0.01)\n",
        "print ('Area is:', L*W, 'm^2') # Do remember to add the units when printing!"
      ]
    },
    {
      "cell_type": "markdown",
      "metadata": {
        "id": "MAddpYvrpmm2"
      },
      "source": [
        "**Note**: For the area itself, it's fairly straightforward:"
      ]
    },
    {
      "cell_type": "code",
      "execution_count": null,
      "metadata": {
        "id": "VdazTAJvpmm2",
        "outputId": "939e3d8e-2c12-4fba-a7ce-3ea73309a5d8"
      },
      "outputs": [
        {
          "data": {
            "text/plain": [
              "0.7564"
            ]
          },
          "execution_count": 5,
          "metadata": {},
          "output_type": "execute_result"
        }
      ],
      "source": [
        "1.24*0.61"
      ]
    },
    {
      "cell_type": "markdown",
      "metadata": {
        "id": "7Ww5iLSgpmm2"
      },
      "source": [
        "However, for the error bar on this number:"
      ]
    },
    {
      "cell_type": "code",
      "execution_count": null,
      "metadata": {
        "id": "c6jAPMH4pmm2",
        "outputId": "f57a499e-684a-4233-d062-09a858328964"
      },
      "outputs": [
        {
          "data": {
            "text/plain": [
              "0.0002"
            ]
          },
          "execution_count": 6,
          "metadata": {},
          "output_type": "execute_result"
        }
      ],
      "source": [
        "0.02*0.01"
      ]
    },
    {
      "cell_type": "markdown",
      "metadata": {
        "id": "ks8mh8PIpmm2"
      },
      "source": [
        "does not work. Instead, the [error progation formula](https://en.wikipedia.org/wiki/Propagation_of_uncertainty#Example_formulae) gives:"
      ]
    },
    {
      "cell_type": "code",
      "execution_count": null,
      "metadata": {
        "id": "Gu5sXd1dpmm2",
        "outputId": "194ba39e-cb22-4de0-d45a-5db570f3520a"
      },
      "outputs": [
        {
          "data": {
            "text/plain": [
              "0.01739540169125163"
            ]
          },
          "execution_count": 7,
          "metadata": {},
          "output_type": "execute_result"
        }
      ],
      "source": [
        "np.abs(1.24*0.61)*np.sqrt((0.02/1.24)**2+(0.01/0.61)**2)"
      ]
    },
    {
      "cell_type": "markdown",
      "metadata": {
        "id": "QsosaF8Rpmm2"
      },
      "source": [
        "So the area is $0.756\\pm0.017 m^2$. `uncertainties` obviously saves a lot of work, even for such a simple case. You can also take a look at the web site uncertainties hosted at https://pythonhosted.org/uncertainties/user_guide.html. In particular, [this section](https://pythonhosted.org/uncertainties/user_guide.html#access-to-the-uncertainty-and-to-the-nominal-value) shows some of the properties of a `ufloat` you can access directly.\n",
        "\n",
        "**Example 2**: A reference object is $10.0\\pm0.0001 m$ long, and makes a viewing angle of $0.62\\pm0.02 rad$. How far is it?"
      ]
    },
    {
      "cell_type": "code",
      "execution_count": null,
      "metadata": {
        "id": "FHeC2iCipmm2",
        "outputId": "e4d13d91-7f23-4a31-ff9c-5d55cf872737"
      },
      "outputs": [
        {
          "name": "stdout",
          "output_type": "stream",
          "text": [
            "Distance is: 15.609024890896208 m, with an error of: 0.537283338762715\n"
          ]
        }
      ],
      "source": [
        "L = uc.ufloat(10.0, 0.0001)\n",
        "theta = uc.ufloat(0.62,0.02)\n",
        "\n",
        "Distance = (L/2)/um.tan(theta/2)\n",
        "\n",
        "print ('Distance is:', Distance.nominal_value, 'm, with an error of:', Distance.std_dev)"
      ]
    },
    {
      "cell_type": "markdown",
      "metadata": {
        "id": "zW2PobStpmm2"
      },
      "source": [
        "Note the need to use \"umath\" functions (like `um.tan()` instead of `np.tan()`), and how to get the nominal value and the standard deviation of the uncertainties objects. To get nicer looking output, such as controlling the number of significant digits printed, you can use the information about formatting at https://docs.python.org/3/tutorial/inputoutput.html. In the exercises below you need to print the values to the screen. (Don’t forget units.)"
      ]
    },
    {
      "cell_type": "markdown",
      "metadata": {
        "id": "JrRnXqbIpmm3"
      },
      "source": [
        "# Exercises\n",
        "This must be marked before you leave the lab. Mark weighting is in brackets.\n",
        "**Save your work to GitHub after having run all cells with `Runtime` -> `Restart and run all`. And do not change the notebook's filename.** Do add comments to your code, you'll lose points if your code is hard to understand. Graphs without labels (or units when appropriate) are not worth any point.\n",
        "\n",
        "## Exercise 0\n",
        "[0] With some approximations, we have measured the mass of the following black-holes:\n",
        "```\n",
        "\"35.6+/-3.9\",\"30.6+/-3.7\",\"63.1+/-3.2\",\"23.2+/-9.8\",\"13.6+/-4.5\",\"35.7+/-6.8\",\"13.7+/-6.0\",\"7.7+/-2.4\",\"20.5+/-4.0\"\n",
        "```\n",
        "Compute for each (with error-bars) their lifetime due to Hawking radiation:\n",
        "$$\n",
        "t = \\left(\\frac{M}{M_{\\odot}}\\right)^3\\,\\times\\,2.097\\,\\times\\,10^{67} yr\n",
        "$$\n",
        "\n",
        "(this exercise is for demonstration purposes and won't be marked)"
      ]
    },
    {
      "cell_type": "code",
      "execution_count": null,
      "metadata": {
        "id": "R3BLkf1gpmm3"
      },
      "outputs": [],
      "source": []
    },
    {
      "cell_type": "markdown",
      "metadata": {
        "id": "bDQNlMeCpmm3"
      },
      "source": [
        "## Exercise 1\n",
        "[2] An object is measured to travel a distance $x = 5.1 \\pm 0.4 m$ during a time of $t = 0.4 \\pm 0.1 s$. What is the average velocity and the error in the average velocity?"
      ]
    },
    {
      "cell_type": "code",
      "execution_count": 13,
      "metadata": {
        "colab": {
          "base_uri": "https://localhost:8080/"
        },
        "id": "fNvW2cmapmm3",
        "outputId": "64e8ba3f-72b9-4963-8dc1-37a508a28803"
      },
      "outputs": [
        {
          "output_type": "stream",
          "name": "stdout",
          "text": [
            "The average velocity is 12.7+/-3.3 m/s\n"
          ]
        }
      ],
      "source": [
        "x = uc.ufloat(5.1, 0.4)\n",
        "t = uc.ufloat(0.4, 0.1)\n",
        "\n",
        "v = x / t\n",
        "\n",
        "print(f\"The average velocity is {v} m/s\")\n"
      ]
    },
    {
      "cell_type": "markdown",
      "metadata": {
        "id": "uT_YAgiWpmm3"
      },
      "source": [
        "## Exercise 2\n",
        "[2] An enterprising cow attempts to jump over the moon by jumping vertically into the air with initial speed $v_0=4.0\\pm0.2 m/s$. After a time $t=0.60\\pm0.06s$, the height of the cow is $h = v_0t-\\frac{1}{2}g t^2 = 0.636 m$. What is the uncertainty in $h$? Take $g$ as exactly $9.81 ms^{-2}$."
      ]
    },
    {
      "cell_type": "code",
      "execution_count": 17,
      "metadata": {
        "colab": {
          "base_uri": "https://localhost:8080/"
        },
        "id": "qzHqkrespmm3",
        "outputId": "75db2f1d-c731-454a-a790-081a81696254"
      },
      "outputs": [
        {
          "output_type": "stream",
          "name": "stdout",
          "text": [
            "the height alongside its uncertainty is 0.634+/-0.165m\n"
          ]
        }
      ],
      "source": [
        "v_0 = uc.ufloat(4.0, 0.2)\n",
        "t = uc.ufloat(0.60, 0.06)\n",
        "\n",
        "g = 9.81\n",
        "\n",
        "h = v_0 * t - ((1 / 2) * g * (t ** 2))\n",
        "print(f\"the height alongside its uncertainty is {h:.3f}m\")"
      ]
    },
    {
      "cell_type": "markdown",
      "metadata": {
        "id": "CTCZbsBkpmm3"
      },
      "source": [
        "## Exercise 3\n",
        "[2] In an optics experiment the object distance $u$ is measured to be 20cm and the image distance $v$ is 10cm, both to an accuracy of 0.5cm. Find the focal length $f$ of the lens using the formula:\n",
        "\n",
        "$$ \\frac{1}{u}+\\frac{1}{v}=\\frac{1}{f}$$"
      ]
    },
    {
      "cell_type": "code",
      "execution_count": 18,
      "metadata": {
        "colab": {
          "base_uri": "https://localhost:8080/"
        },
        "id": "fuTX5JOSpmm3",
        "outputId": "07c6406a-4feb-43e1-b93b-d7ee83860e17"
      },
      "outputs": [
        {
          "output_type": "stream",
          "name": "stdout",
          "text": [
            "The focal length is 0.033+/-0.001cm\n"
          ]
        }
      ],
      "source": [
        "u = uc.ufloat(20, 0.5)\n",
        "v = uc.ufloat(10, 0.5)\n",
        "\n",
        "f = 1 / (u + v)\n",
        "print(f\"The focal length is {f:.3f}cm\")\n"
      ]
    },
    {
      "cell_type": "markdown",
      "metadata": {
        "id": "Uxt4qP7Lpmm3"
      },
      "source": [
        "## Exercise 4\n",
        "[2] Two students each measure the refractive index of water. Jack measures a value of $1.33 \\pm 0.03$ while Jill measures $1.28 \\pm 0.02$. Are these values in agreement? *You do have to think a bit about this one...*"
      ]
    },
    {
      "cell_type": "code",
      "execution_count": 24,
      "metadata": {
        "colab": {
          "base_uri": "https://localhost:8080/"
        },
        "id": "I1YwsW5Cpmm3",
        "outputId": "c30ec59a-b348-42ff-f88d-33468b4d8894"
      },
      "outputs": [
        {
          "output_type": "stream",
          "name": "stdout",
          "text": [
            "0.05+/-0.04\n",
            "because difference is not 0 they are not in agreement\n"
          ]
        }
      ],
      "source": [
        "Ja = uc.ufloat(1.33, 0.03)\n",
        "Ji = uc.ufloat(1.28, 0.02)\n",
        "\n",
        "print(Ja - Ji)\n",
        "print('because difference is not 0 they are not in agreement')"
      ]
    },
    {
      "cell_type": "markdown",
      "metadata": {
        "id": "8lhgEs4mpmm3"
      },
      "source": [
        "## Exercise 5\n",
        "[2] The damped resonance frequency $\\omega_{res}$ of an oscillating system is related to the (un-damped) natural angular frequency $\\omega_0$ and the damping coefficient $\\alpha$ by:\n",
        "\n",
        "$$\\omega_{res} = \\sqrt{ \\omega_0^2 - 2\\alpha^2}$$\n",
        "\n",
        "Find $f_0$ if the measured resonance frequency $f_{res}$ is $23.2\\pm0.1 Hz$ and the measured damping coefficient is $19.5\\pm0.5s^{-1}$.\n"
      ]
    },
    {
      "cell_type": "code",
      "execution_count": 21,
      "metadata": {
        "colab": {
          "base_uri": "https://localhost:8080/"
        },
        "id": "y6tcuGZTpmm3",
        "outputId": "2ae61fcb-ac0f-4543-8baf-c22f770b281a"
      },
      "outputs": [
        {
          "output_type": "stream",
          "name": "stdout",
          "text": [
            "23.61+/-0.10\n"
          ]
        }
      ],
      "source": [
        "f_res = uc.ufloat(23.2, 0.1)\n",
        "alpha = uc.ufloat(19.5, 0.5)\n",
        "\n",
        "𝜔_res = 2 * np.pi * f_res\n",
        "\n",
        "𝜔_0 = ((𝜔_res ** 2) + (2 * (alpha ** 2))) ** (1 / 2)\n",
        "\n",
        "f_0 = 𝜔_0 / (2 * np.pi)\n",
        "\n",
        "print(f_0)"
      ]
    },
    {
      "cell_type": "markdown",
      "metadata": {
        "id": "T2GBOipSpmm3"
      },
      "source": [
        "## Exercise 6\n",
        "[2] Suppose you have the following equation from one of your lab experiments:\n",
        "\n",
        "$$f=\\frac{c}{2}\\sqrt{\\frac{n_x^2}{L_x^2}+\\frac{n_y^2}{L_y^2}+\\frac{n_z^2}{L_z^2}}$$\n",
        "\n",
        "where $f$ is the resonant frequency of sound waves in a box of sides $L_x$, $L_y$ and $L_z$ in length and the $n_x$ etc. are integers. $L_x = 10.2\\pm0.2m$, $L_y = 5.2\\pm0.3m$ and $L_z = 20.0\\pm0.1 m$, while $c = 331.3 + T * 0.606 \\,m\\,s^{-1}$ is the temperature-dependent speed of sound, and the temperature $T$ is $23 \\pm 1^\\circ C$.\n",
        "Calculate $f$ and the error in $f$ for the following values of $(nx,ny,nz)= (1,1,1), (1,1,2)$ and $(2,1,1)$.\n"
      ]
    },
    {
      "cell_type": "code",
      "execution_count": null,
      "metadata": {
        "id": "LVrZXBBFpmm3"
      },
      "outputs": [],
      "source": []
    },
    {
      "cell_type": "markdown",
      "metadata": {
        "id": "uKjiiT3Kpmm3"
      },
      "source": [
        "## Exercise 7\n",
        "[4] The reflection coefficient $R_\\parallel$ for parallel plane-polarised light reflected from a surface is given by the equation:\n",
        "\n",
        "$$ R_\\parallel = \\frac{\\tan^2(\\theta_i - \\theta_t)}{\\tan^2(\\theta_i + \\theta_t)} $$\n",
        "\n",
        "Calculate the error in $R_\\parallel$ given measurements $\\theta_i = (78 \\pm 1)^\\circ$ and $\\theta_t = (40 \\pm 1)^\\circ$."
      ]
    },
    {
      "cell_type": "code",
      "execution_count": null,
      "metadata": {
        "id": "N0JI7U0Xpmm3"
      },
      "outputs": [],
      "source": []
    },
    {
      "cell_type": "markdown",
      "metadata": {
        "id": "3ZaGMuRKpmm3"
      },
      "source": [
        "## Exercise 8\n",
        "[4] Calculate and print to the screen the fractional uncertainty, as a percentage to one\n",
        "significant figure, of the fluid flow discharge coefficient $C_d$ from the equation\n",
        "\n",
        "$$\n",
        "C_d = \\frac{\\dot{m}\\sqrt{1-\\left(\\frac{d}{D}\\right)^4}}{Kd^2F\\sqrt{\\rho\\Delta P}}\n",
        "$$\n",
        "\n",
        "where\n",
        "\n",
        "\\begin{align*}\n",
        "    C_d &= \\text{discharge coefficient}&& \\text{(no units)} \\\\\n",
        "    \\dot{m} &= \\text{mass flow rate}&& = 0.13 \\pm 0.01kg\\,s^{-1} \\\\\n",
        "    d &= \\text{orifice diameter}&& = 11\\pm 1 mm \\\\\n",
        "    D &= \\text{pipe diameter}&& = 71 \\pm 1 mm \\\\\n",
        "    \\rho &= \\text{fluid density}&& =1.01\\pm0.01g\\,cm^{-3} \\\\\n",
        "    \\Delta P &= \\text{differential pressure}&& =156 \\pm 7 Pa \\\\\n",
        "    K &= \\text{a constant parameter}&& =\\text{constant (no units)} \\\\\n",
        "    F &= \\text{thermal expansion factor}&& =\\text{constant (no units)}\n",
        "\\end{align*}\n"
      ]
    },
    {
      "cell_type": "code",
      "execution_count": null,
      "metadata": {
        "id": "_Y6Ema3Wpmm4"
      },
      "outputs": [],
      "source": []
    },
    {
      "cell_type": "markdown",
      "metadata": {
        "id": "sd3Hf359pmm4"
      },
      "source": [
        "## Exercise 9: Optional problem (not marked)\n",
        "If you have time and want to try something interesting, do the following problem by plotting in 2D:\n",
        " - Draw an equilateral triangle with vertices and coordinates: vertex 1: $(p_1,q_1)$; vertex 2: $(p_2, q_2)$; vertex 3: $(p_3, q_3)$.\n",
        " - Place a dot at an arbitrary point $P = (x_0, y_0)$ within this triangle.\n",
        " - Find the next point by selecting randomly an integer $n = 1 , 2, $  or $3$ :\n",
        "    1. If 1 , place a dot halfway between P and vertex 1.\n",
        "    2. If 2 , place a dot halfway between P and vertex 2.\n",
        "    3. If 3 , place a dot halfway between P and vertex 3.\n",
        " - Repeat the last two steps using the last dot as the new P.\n",
        "\n",
        "Mathematically, the coordinates of successive points are given by the formulae\n",
        "\n",
        "$$(x_{i+1},y_{i+1})=0.5[(x_i,y_i)+(p_n,q_n)]$$\n",
        "\n",
        "and\n",
        "\n",
        "$$n=int(1+3r_i),$$\n",
        "\n",
        "where $r_i$ is a random number between 0 and 1 and where the $int()$ function outputs the closest integer smaller than or equal to the argument.\n",
        "\n",
        "Try extending this to four vertices."
      ]
    },
    {
      "cell_type": "code",
      "execution_count": null,
      "metadata": {
        "id": "MHhEqPphpmm4"
      },
      "outputs": [],
      "source": []
    }
  ],
  "metadata": {
    "kernelspec": {
      "display_name": "Python 3",
      "language": "python",
      "name": "python3"
    },
    "language_info": {
      "codemirror_mode": {
        "name": "ipython",
        "version": 3
      },
      "file_extension": ".py",
      "mimetype": "text/x-python",
      "name": "python",
      "nbconvert_exporter": "python",
      "pygments_lexer": "ipython3",
      "version": "3.7.10"
    },
    "colab": {
      "provenance": []
    }
  },
  "nbformat": 4,
  "nbformat_minor": 0
}